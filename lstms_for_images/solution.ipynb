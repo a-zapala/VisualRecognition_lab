{
  "cells": [
    {
      "cell_type": "markdown",
      "metadata": {
        "id": "HuWDYx7ZaXh2"
      },
      "source": [
        "# Task 3"
      ]
    },
    {
      "cell_type": "markdown",
      "metadata": {
        "id": "upBn5zZRbBCw"
      },
      "source": [
        "Let's implement a Neural Network, which contains a stack of 2 LSTMs, both processing sequences, 2 Fully Connected layers and 1-3 Dropouts. You can use max. one additional convolutional layer, if needed. Let's use Sequential API, Adam optimizer and MNIST dataset. Use properly the train, val and test splits presented below. Your model should obtain at least 98.5% accuracy on both val and test sets. Then, let's implement the Grad-CAM algorithm to visualize a class activation heatmap (function get_gradcam_heatmap)."
      ]
    },
    {
      "cell_type": "code",
      "execution_count": 2,
      "metadata": {
        "colab": {
          "base_uri": "https://localhost:8080/"
        },
        "id": "83tGAtx4WNXM",
        "outputId": "d9403ad0-3ec6-4ffc-bca8-37f9e554087f"
      },
      "outputs": [
        {
          "name": "stdout",
          "output_type": "stream",
          "text": [
            "Downloading data from https://storage.googleapis.com/tensorflow/tf-keras-datasets/mnist.npz\n",
            "11493376/11490434 [==============================] - 0s 0us/step\n"
          ]
        }
      ],
      "source": [
        "import numpy as np\n",
        "from tensorflow.keras.datasets import mnist\n",
        "\n",
        "(x_train, y_train), (x_test, y_test) = mnist.load_data()\n",
        "x_val, y_val = x_train[-10000:], y_train[-10000:]\n",
        "x_train, y_train = x_train[:-10000], y_train[:-10000]"
      ]
    },
    {
      "cell_type": "code",
      "execution_count": 148,
      "metadata": {
        "id": "v7d3qYHnWinx"
      },
      "outputs": [],
      "source": [
        "from tensorflow.keras import Sequential\n",
        "from tensorflow.keras.layers import LSTM, Dropout, Dense, Conv2D, Flatten, Reshape\n",
        "from tensorflow.keras.optimizers import Adam\n",
        "\n",
        "conv_filters_size = 8\n",
        "\n",
        "model = Sequential()\n",
        "model.add(Reshape((28,28,1), input_shape=(28,28)))\n",
        "model.add(Conv2D(conv_filters_size, kernel_size=(3,3), padding='same', input_shape=(28,28, 1), name='first_CONV'))\n",
        "model.add(Reshape((28,28 * conv_filters_size)))\n",
        "model.add(LSTM(28, return_sequences=True, input_shape=(28, 28 * conv_filters_size), name='first_LSTM'))\n",
        "model.add(Dropout(0.2))\n",
        "model.add(LSTM(200))\n",
        "model.add(Dropout(0.2))\n",
        "model.add(Dense(300, activation='relu'))\n",
        "model.add(Dropout(0.2))\n",
        "model.add(Dense(10, activation='softmax'))\n",
        "\n",
        "model.compile(loss='sparse_categorical_crossentropy', optimizer=Adam(), metrics=['accuracy'])"
      ]
    },
    {
      "cell_type": "code",
      "execution_count": 163,
      "metadata": {
        "colab": {
          "base_uri": "https://localhost:8080/"
        },
        "id": "TsxIBoVL9QFE",
        "outputId": "aacd10d8-f869-48ae-978c-ee24c80d76cf"
      },
      "outputs": [
        {
          "name": "stdout",
          "output_type": "stream",
          "text": [
            "Model: \"sequential_33\"\n",
            "_________________________________________________________________\n",
            "Layer (type)                 Output Shape              Param #   \n",
            "=================================================================\n",
            "reshape_36 (Reshape)         (None, 28, 28, 1)         0         \n",
            "_________________________________________________________________\n",
            "first_CONV (Conv2D)          (None, 28, 28, 8)         80        \n",
            "_________________________________________________________________\n",
            "reshape_37 (Reshape)         (None, 28, 224)           0         \n",
            "_________________________________________________________________\n",
            "first_LSTM (LSTM)            (None, 28, 28)            28336     \n",
            "_________________________________________________________________\n",
            "dropout_72 (Dropout)         (None, 28, 28)            0         \n",
            "_________________________________________________________________\n",
            "lstm_12 (LSTM)               (None, 200)               183200    \n",
            "_________________________________________________________________\n",
            "dropout_73 (Dropout)         (None, 200)               0         \n",
            "_________________________________________________________________\n",
            "dense_48 (Dense)             (None, 300)               60300     \n",
            "_________________________________________________________________\n",
            "dropout_74 (Dropout)         (None, 300)               0         \n",
            "_________________________________________________________________\n",
            "dense_49 (Dense)             (None, 10)                3010      \n",
            "=================================================================\n",
            "Total params: 274,926\n",
            "Trainable params: 274,926\n",
            "Non-trainable params: 0\n",
            "_________________________________________________________________\n"
          ]
        }
      ],
      "source": [
        "model.summary()"
      ]
    },
    {
      "cell_type": "code",
      "execution_count": 150,
      "metadata": {
        "colab": {
          "base_uri": "https://localhost:8080/"
        },
        "id": "n5pKd4iFtPZi",
        "outputId": "0a9d53fc-4ee6-4840-844e-1e46d92428fd"
      },
      "outputs": [
        {
          "name": "stdout",
          "output_type": "stream",
          "text": [
            "Epoch 1/30\n",
            "391/391 [==============================] - 6s 11ms/step - loss: 0.8813 - accuracy: 0.6948 - val_loss: 0.1774 - val_accuracy: 0.9455\n",
            "Epoch 2/30\n",
            "391/391 [==============================] - 3s 9ms/step - loss: 0.1938 - accuracy: 0.9408 - val_loss: 0.1124 - val_accuracy: 0.9658\n",
            "Epoch 3/30\n",
            "391/391 [==============================] - 3s 8ms/step - loss: 0.1288 - accuracy: 0.9608 - val_loss: 0.0838 - val_accuracy: 0.9738\n",
            "Epoch 4/30\n",
            "391/391 [==============================] - 3s 8ms/step - loss: 0.1088 - accuracy: 0.9665 - val_loss: 0.1007 - val_accuracy: 0.9698\n",
            "Epoch 5/30\n",
            "391/391 [==============================] - 3s 8ms/step - loss: 0.1031 - accuracy: 0.9677 - val_loss: 0.0751 - val_accuracy: 0.9759\n",
            "Epoch 6/30\n",
            "391/391 [==============================] - 3s 8ms/step - loss: 0.0841 - accuracy: 0.9742 - val_loss: 0.0640 - val_accuracy: 0.9807\n",
            "Epoch 7/30\n",
            "391/391 [==============================] - 3s 8ms/step - loss: 0.0718 - accuracy: 0.9775 - val_loss: 0.0589 - val_accuracy: 0.9820\n",
            "Epoch 8/30\n",
            "391/391 [==============================] - 3s 8ms/step - loss: 0.0666 - accuracy: 0.9796 - val_loss: 0.0569 - val_accuracy: 0.9826\n",
            "Epoch 9/30\n",
            "391/391 [==============================] - 3s 8ms/step - loss: 0.0647 - accuracy: 0.9799 - val_loss: 0.0514 - val_accuracy: 0.9857\n",
            "Epoch 10/30\n",
            "391/391 [==============================] - 3s 8ms/step - loss: 0.0587 - accuracy: 0.9823 - val_loss: 0.0553 - val_accuracy: 0.9838\n",
            "Epoch 11/30\n",
            "391/391 [==============================] - 3s 8ms/step - loss: 0.0547 - accuracy: 0.9826 - val_loss: 0.0556 - val_accuracy: 0.9827\n",
            "Epoch 12/30\n",
            "391/391 [==============================] - 3s 8ms/step - loss: 0.0493 - accuracy: 0.9848 - val_loss: 0.0565 - val_accuracy: 0.9838\n",
            "Epoch 13/30\n",
            "391/391 [==============================] - 3s 8ms/step - loss: 0.0513 - accuracy: 0.9831 - val_loss: 0.0586 - val_accuracy: 0.9837\n",
            "Epoch 14/30\n",
            "391/391 [==============================] - 3s 8ms/step - loss: 0.0480 - accuracy: 0.9849 - val_loss: 0.0468 - val_accuracy: 0.9867\n",
            "Epoch 15/30\n",
            "391/391 [==============================] - 3s 8ms/step - loss: 0.0440 - accuracy: 0.9866 - val_loss: 0.0452 - val_accuracy: 0.9866\n",
            "Epoch 16/30\n",
            "391/391 [==============================] - 3s 8ms/step - loss: 0.0414 - accuracy: 0.9866 - val_loss: 0.0463 - val_accuracy: 0.9859\n",
            "Epoch 17/30\n",
            "391/391 [==============================] - 3s 8ms/step - loss: 0.0388 - accuracy: 0.9881 - val_loss: 0.0582 - val_accuracy: 0.9847\n",
            "Epoch 18/30\n",
            "391/391 [==============================] - 3s 8ms/step - loss: 0.0411 - accuracy: 0.9869 - val_loss: 0.0477 - val_accuracy: 0.9861\n",
            "Epoch 19/30\n",
            "391/391 [==============================] - 3s 8ms/step - loss: 0.0369 - accuracy: 0.9883 - val_loss: 0.0499 - val_accuracy: 0.9883\n",
            "Epoch 20/30\n",
            "391/391 [==============================] - 3s 8ms/step - loss: 0.0350 - accuracy: 0.9890 - val_loss: 0.0558 - val_accuracy: 0.9858\n",
            "Epoch 21/30\n",
            "391/391 [==============================] - 3s 8ms/step - loss: 0.0395 - accuracy: 0.9876 - val_loss: 0.0513 - val_accuracy: 0.9850\n",
            "Epoch 22/30\n",
            "391/391 [==============================] - 3s 8ms/step - loss: 0.0331 - accuracy: 0.9895 - val_loss: 0.0527 - val_accuracy: 0.9866\n",
            "Epoch 23/30\n",
            "391/391 [==============================] - 3s 8ms/step - loss: 0.0342 - accuracy: 0.9893 - val_loss: 0.0541 - val_accuracy: 0.9848\n",
            "Epoch 24/30\n",
            "391/391 [==============================] - 3s 8ms/step - loss: 0.0342 - accuracy: 0.9889 - val_loss: 0.0483 - val_accuracy: 0.9862\n",
            "Epoch 25/30\n",
            "391/391 [==============================] - 3s 8ms/step - loss: 0.0285 - accuracy: 0.9911 - val_loss: 0.0475 - val_accuracy: 0.9881\n",
            "Epoch 26/30\n",
            "391/391 [==============================] - 3s 8ms/step - loss: 0.0330 - accuracy: 0.9890 - val_loss: 0.0481 - val_accuracy: 0.9869\n",
            "Epoch 27/30\n",
            "391/391 [==============================] - 3s 8ms/step - loss: 0.0303 - accuracy: 0.9907 - val_loss: 0.0455 - val_accuracy: 0.9885\n",
            "Epoch 28/30\n",
            "391/391 [==============================] - 3s 8ms/step - loss: 0.0277 - accuracy: 0.9909 - val_loss: 0.0473 - val_accuracy: 0.9873\n",
            "Epoch 29/30\n",
            "391/391 [==============================] - 3s 8ms/step - loss: 0.0265 - accuracy: 0.9915 - val_loss: 0.0473 - val_accuracy: 0.9886\n",
            "Epoch 30/30\n",
            "391/391 [==============================] - 3s 8ms/step - loss: 0.0226 - accuracy: 0.9921 - val_loss: 0.0486 - val_accuracy: 0.9870\n"
          ]
        },
        {
          "data": {
            "text/plain": [
              "<tensorflow.python.keras.callbacks.History at 0x7fe5b391a668>"
            ]
          },
          "execution_count": 150,
          "metadata": {
            "tags": []
          },
          "output_type": "execute_result"
        }
      ],
      "source": [
        "model.fit(x_train,y_train, batch_size=128, epochs=30, validation_data=(x_val, y_val))"
      ]
    },
    {
      "cell_type": "code",
      "execution_count": 165,
      "metadata": {
        "colab": {
          "base_uri": "https://localhost:8080/"
        },
        "id": "3Gm26KG0W5yo",
        "outputId": "6409b813-d6bf-492f-c80b-270c5284de16"
      },
      "outputs": [
        {
          "name": "stdout",
          "output_type": "stream",
          "text": [
            "313/313 [==============================] - 1s 4ms/step - loss: 0.0486 - accuracy: 0.9870\n"
          ]
        },
        {
          "data": {
            "text/plain": [
              "[0.04862743988633156, 0.9869999885559082]"
            ]
          },
          "execution_count": 165,
          "metadata": {
            "tags": []
          },
          "output_type": "execute_result"
        }
      ],
      "source": [
        "model.evaluate(x_val, y_val)"
      ]
    },
    {
      "cell_type": "code",
      "execution_count": 166,
      "metadata": {
        "colab": {
          "base_uri": "https://localhost:8080/"
        },
        "id": "meBNtY2TW3LM",
        "outputId": "f0f104c7-0626-45af-8773-9b19d20f8917"
      },
      "outputs": [
        {
          "name": "stdout",
          "output_type": "stream",
          "text": [
            "313/313 [==============================] - 1s 4ms/step - loss: 0.0441 - accuracy: 0.9881\n"
          ]
        },
        {
          "data": {
            "text/plain": [
              "[0.044090479612350464, 0.988099992275238]"
            ]
          },
          "execution_count": 166,
          "metadata": {
            "tags": []
          },
          "output_type": "execute_result"
        }
      ],
      "source": [
        "model.evaluate(x_test, y_test)"
      ]
    },
    {
      "cell_type": "code",
      "execution_count": 169,
      "metadata": {
        "id": "ZCDnE74GdtkX"
      },
      "outputs": [],
      "source": [
        "import tensorflow as tf\n",
        "\n",
        "NAME_OF_LAYER_FOR_CAM_GRAD = \"first_CONV\"\n",
        "\n",
        "# source https://keras.io/examples/vision/grad_cam/\n",
        "\n",
        "def get_heatmap( model, img ):\n",
        "  img = np.expand_dims(img, 0)\n",
        "  cam_grad_layer = model.get_layer(NAME_OF_LAYER_FOR_CAM_GRAD)\n",
        "  cam_grad_layer_model = tf.keras.Model(model.inputs, cam_grad_layer.output)\n",
        "\n",
        "\n",
        "  classifier_input = tf.keras.Input(shape=cam_grad_layer.output.shape[1:]) \n",
        "\n",
        "  x = classifier_input\n",
        "  for layer in model.layers[model.layers.index(cam_grad_layer)+1:]:\n",
        "      x = layer(x)\n",
        "  classifier_model = tf.keras.Model(classifier_input, x)\n",
        "\n",
        "  with tf.GradientTape() as tape:\n",
        "    cam_grad_layer_output = cam_grad_layer_model(img)\n",
        "    tape.watch(cam_grad_layer_output)\n",
        "    preds = classifier_model(cam_grad_layer_output)\n",
        "    top_pred_index = tf.argmax(preds[0])\n",
        "    top_class_channel = preds[:, top_pred_index]\n",
        "\n",
        "  grads = tape.gradient(top_class_channel, cam_grad_layer_output)\n",
        "  pooled_grads = tf.reduce_mean(grads, axis=(0,1,2))\n",
        "\n",
        "  cam_grad_layer_output = cam_grad_layer_output.numpy()[0]\n",
        "  for i in range(pooled_grads.shape[-1]):\n",
        "    cam_grad_layer_output[:, :, i] *= pooled_grads[i]\n",
        "  heatmap = np.mean(cam_grad_layer_output, axis=-1)\n",
        "  heatmap = np.maximum(heatmap, 0) / np.max(heatmap)\n",
        "  return heatmap"
      ]
    },
    {
      "cell_type": "code",
      "execution_count": 174,
      "metadata": {
        "colab": {
          "base_uri": "https://localhost:8080/",
          "height": 274
        },
        "id": "C9XI4fIZ6TbZ",
        "outputId": "7846bed4-ccc7-48aa-94c1-8588d8dfd1b8"
      },
      "outputs": [
        {
          "data": {
            "image/png": "[encoded data removed]",
            "text/plain": [
              "<Figure size 288x288 with 1 Axes>"
            ]
          },
          "metadata": {
            "needs_background": "light",
            "tags": []
          },
          "output_type": "display_data"
        }
      ],
      "source": [
        "import matplotlib.pyplot as plt\n",
        "heatmap = get_heatmap( model, x_test[0] )\n",
        "plt.matshow(heatmap)\n",
        "plt.show()"
      ]
    },
    {
      "cell_type": "code",
      "execution_count": 182,
      "metadata": {
        "colab": {
          "base_uri": "https://localhost:8080/",
          "height": 594
        },
        "id": "Bn06tkdWmGyQ",
        "outputId": "be1da6a6-c9d7-4cd1-bf09-a10593623662"
      },
      "outputs": [
        {
          "data": {
            "image/png": "[encoded data removed]",
            "text/plain": [
              "<Figure size 720x720 with 2 Axes>"
            ]
          },
          "metadata": {
            "needs_background": "light",
            "tags": []
          },
          "output_type": "display_data"
        }
      ],
      "source": [
        "i = 30\n",
        "f, ax = plt.subplots(2, figsize=(10,10))\n",
        "ax[0].matshow(get_heatmap(model, x_test[i]))\n",
        "ax[1].matshow(x_test[i])\n",
        "\n",
        "plt.show()"
      ]
    },
    {
      "cell_type": "markdown",
      "metadata": {
        "id": "yevNfFcyfHBT"
      },
      "source": [
        "## Save the trained model"
      ]
    },
    {
      "cell_type": "code",
      "execution_count": 164,
      "metadata": {
        "id": "YSPyjSKwYswZ"
      },
      "outputs": [],
      "source": [
        "model.save('result.h5', save_format='h5')"
      ]
    },
    {
      "cell_type": "markdown",
      "metadata": {
        "id": "t8XImInBfJaw"
      },
      "source": [
        "## Submission\n",
        "You need to send by the deadline:\n",
        "- the trained model with architecture and weights (as YourFirstName_YourSourname_Indeks.h5 file).\n",
        "- and jupyter notebook (ipynb file) with all outputs and training logs (as YourFirstName_YourSourname_Indeks.ipynb file). The trained model should be reproducible by running Runtime -> Run all."
      ]
    }
  ],
  "metadata": {
    "accelerator": "GPU",
    "colab": {
      "collapsed_sections": [],
      "name": "Andrzej_Zapala_386481.ipynb",
      "provenance": []
    },
    "kernelspec": {
      "display_name": "Python 3",
      "name": "python3"
    }
  },
  "nbformat": 4,
  "nbformat_minor": 0
}
